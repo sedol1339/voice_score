{
  "nbformat": 4,
  "nbformat_minor": 0,
  "metadata": {
    "colab": {
      "name": "search.ipynb",
      "provenance": [],
      "collapsed_sections": [],
      "authorship_tag": "ABX9TyMGcpC6dzJe1RtT9uwpG1Kl",
      "include_colab_link": true
    },
    "kernelspec": {
      "name": "python3",
      "display_name": "Python 3"
    },
    "language_info": {
      "name": "python"
    },
    "accelerator": "GPU"
  },
  "cells": [
    {
      "cell_type": "markdown",
      "metadata": {
        "id": "view-in-github",
        "colab_type": "text"
      },
      "source": [
        "<a href=\"https://colab.research.google.com/github/sedol1339/voice_score/blob/main/search.ipynb\" target=\"_parent\"><img src=\"https://colab.research.google.com/assets/colab-badge.svg\" alt=\"Open In Colab\"/></a>"
      ]
    },
    {
      "cell_type": "code",
      "source": [
        "!git clone -q https://github.com/sedol1339/voice_score\n",
        "%cd voice_score\n",
        "%run utils2.ipynb\n",
        "data.sample(5)"
      ],
      "metadata": {
        "colab": {
          "base_uri": "https://localhost:8080/",
          "height": 267
        },
        "id": "h0ZQXZFeCrSD",
        "outputId": "a0804d9a-2186-43d4-f87a-cd8656eeeddc"
      },
      "execution_count": null,
      "outputs": [
        {
          "output_type": "stream",
          "name": "stdout",
          "text": [
            "/content/voice_score\n"
          ]
        },
        {
          "output_type": "execute_result",
          "data": {
            "text/html": [
              "\n",
              "  <div id=\"df-298eb6e3-d6b4-4640-91c2-13a2be0686b8\">\n",
              "    <div class=\"colab-df-container\">\n",
              "      <div>\n",
              "<style scoped>\n",
              "    .dataframe tbody tr th:only-of-type {\n",
              "        vertical-align: middle;\n",
              "    }\n",
              "\n",
              "    .dataframe tbody tr th {\n",
              "        vertical-align: top;\n",
              "    }\n",
              "\n",
              "    .dataframe thead th {\n",
              "        text-align: right;\n",
              "    }\n",
              "</style>\n",
              "<table border=\"1\" class=\"dataframe\">\n",
              "  <thead>\n",
              "    <tr style=\"text-align: right;\">\n",
              "      <th></th>\n",
              "      <th>subset</th>\n",
              "      <th>system</th>\n",
              "      <th>utterance</th>\n",
              "      <th>file</th>\n",
              "      <th>file_exists</th>\n",
              "      <th>score_mean</th>\n",
              "      <th>score_std</th>\n",
              "      <th>n_votes</th>\n",
              "      <th>votes1</th>\n",
              "      <th>votes2</th>\n",
              "      <th>votes3</th>\n",
              "      <th>votes4</th>\n",
              "      <th>votes5</th>\n",
              "      <th>fold</th>\n",
              "    </tr>\n",
              "  </thead>\n",
              "  <tbody>\n",
              "    <tr>\n",
              "      <th>5580</th>\n",
              "      <td>train</td>\n",
              "      <td>sysf53fb</td>\n",
              "      <td>utt8395a56</td>\n",
              "      <td>sysf53fb-utt8395a56.wav</td>\n",
              "      <td>True</td>\n",
              "      <td>1.125</td>\n",
              "      <td>0.3536</td>\n",
              "      <td>8</td>\n",
              "      <td>7</td>\n",
              "      <td>1</td>\n",
              "      <td>0</td>\n",
              "      <td>0</td>\n",
              "      <td>0</td>\n",
              "      <td>4</td>\n",
              "    </tr>\n",
              "    <tr>\n",
              "      <th>4618</th>\n",
              "      <td>train</td>\n",
              "      <td>sysc276f</td>\n",
              "      <td>utt0699af9</td>\n",
              "      <td>sysc276f-utt0699af9.wav</td>\n",
              "      <td>True</td>\n",
              "      <td>2.500</td>\n",
              "      <td>0.5345</td>\n",
              "      <td>8</td>\n",
              "      <td>0</td>\n",
              "      <td>4</td>\n",
              "      <td>4</td>\n",
              "      <td>0</td>\n",
              "      <td>0</td>\n",
              "      <td>3</td>\n",
              "    </tr>\n",
              "    <tr>\n",
              "      <th>4368</th>\n",
              "      <td>train</td>\n",
              "      <td>sysba29c</td>\n",
              "      <td>utt1638187</td>\n",
              "      <td>sysba29c-utt1638187.wav</td>\n",
              "      <td>True</td>\n",
              "      <td>2.125</td>\n",
              "      <td>0.6409</td>\n",
              "      <td>8</td>\n",
              "      <td>1</td>\n",
              "      <td>5</td>\n",
              "      <td>2</td>\n",
              "      <td>0</td>\n",
              "      <td>0</td>\n",
              "      <td>3</td>\n",
              "    </tr>\n",
              "    <tr>\n",
              "      <th>6195</th>\n",
              "      <td>val</td>\n",
              "      <td>sys64e2f</td>\n",
              "      <td>utt0c4d719</td>\n",
              "      <td>sys64e2f-utt0c4d719.wav</td>\n",
              "      <td>False</td>\n",
              "      <td>3.750</td>\n",
              "      <td>0.7071</td>\n",
              "      <td>8</td>\n",
              "      <td>0</td>\n",
              "      <td>0</td>\n",
              "      <td>3</td>\n",
              "      <td>4</td>\n",
              "      <td>1</td>\n",
              "      <td>2</td>\n",
              "    </tr>\n",
              "    <tr>\n",
              "      <th>6841</th>\n",
              "      <td>val</td>\n",
              "      <td>sysfd5c5</td>\n",
              "      <td>utt64abfa3</td>\n",
              "      <td>sysfd5c5-utt64abfa3.wav</td>\n",
              "      <td>False</td>\n",
              "      <td>3.750</td>\n",
              "      <td>1.2817</td>\n",
              "      <td>8</td>\n",
              "      <td>1</td>\n",
              "      <td>0</td>\n",
              "      <td>1</td>\n",
              "      <td>4</td>\n",
              "      <td>2</td>\n",
              "      <td>4</td>\n",
              "    </tr>\n",
              "  </tbody>\n",
              "</table>\n",
              "</div>\n",
              "      <button class=\"colab-df-convert\" onclick=\"convertToInteractive('df-298eb6e3-d6b4-4640-91c2-13a2be0686b8')\"\n",
              "              title=\"Convert this dataframe to an interactive table.\"\n",
              "              style=\"display:none;\">\n",
              "        \n",
              "  <svg xmlns=\"http://www.w3.org/2000/svg\" height=\"24px\"viewBox=\"0 0 24 24\"\n",
              "       width=\"24px\">\n",
              "    <path d=\"M0 0h24v24H0V0z\" fill=\"none\"/>\n",
              "    <path d=\"M18.56 5.44l.94 2.06.94-2.06 2.06-.94-2.06-.94-.94-2.06-.94 2.06-2.06.94zm-11 1L8.5 8.5l.94-2.06 2.06-.94-2.06-.94L8.5 2.5l-.94 2.06-2.06.94zm10 10l.94 2.06.94-2.06 2.06-.94-2.06-.94-.94-2.06-.94 2.06-2.06.94z\"/><path d=\"M17.41 7.96l-1.37-1.37c-.4-.4-.92-.59-1.43-.59-.52 0-1.04.2-1.43.59L10.3 9.45l-7.72 7.72c-.78.78-.78 2.05 0 2.83L4 21.41c.39.39.9.59 1.41.59.51 0 1.02-.2 1.41-.59l7.78-7.78 2.81-2.81c.8-.78.8-2.07 0-2.86zM5.41 20L4 18.59l7.72-7.72 1.47 1.35L5.41 20z\"/>\n",
              "  </svg>\n",
              "      </button>\n",
              "      \n",
              "  <style>\n",
              "    .colab-df-container {\n",
              "      display:flex;\n",
              "      flex-wrap:wrap;\n",
              "      gap: 12px;\n",
              "    }\n",
              "\n",
              "    .colab-df-convert {\n",
              "      background-color: #E8F0FE;\n",
              "      border: none;\n",
              "      border-radius: 50%;\n",
              "      cursor: pointer;\n",
              "      display: none;\n",
              "      fill: #1967D2;\n",
              "      height: 32px;\n",
              "      padding: 0 0 0 0;\n",
              "      width: 32px;\n",
              "    }\n",
              "\n",
              "    .colab-df-convert:hover {\n",
              "      background-color: #E2EBFA;\n",
              "      box-shadow: 0px 1px 2px rgba(60, 64, 67, 0.3), 0px 1px 3px 1px rgba(60, 64, 67, 0.15);\n",
              "      fill: #174EA6;\n",
              "    }\n",
              "\n",
              "    [theme=dark] .colab-df-convert {\n",
              "      background-color: #3B4455;\n",
              "      fill: #D2E3FC;\n",
              "    }\n",
              "\n",
              "    [theme=dark] .colab-df-convert:hover {\n",
              "      background-color: #434B5C;\n",
              "      box-shadow: 0px 1px 3px 1px rgba(0, 0, 0, 0.15);\n",
              "      filter: drop-shadow(0px 1px 2px rgba(0, 0, 0, 0.3));\n",
              "      fill: #FFFFFF;\n",
              "    }\n",
              "  </style>\n",
              "\n",
              "      <script>\n",
              "        const buttonEl =\n",
              "          document.querySelector('#df-298eb6e3-d6b4-4640-91c2-13a2be0686b8 button.colab-df-convert');\n",
              "        buttonEl.style.display =\n",
              "          google.colab.kernel.accessAllowed ? 'block' : 'none';\n",
              "\n",
              "        async function convertToInteractive(key) {\n",
              "          const element = document.querySelector('#df-298eb6e3-d6b4-4640-91c2-13a2be0686b8');\n",
              "          const dataTable =\n",
              "            await google.colab.kernel.invokeFunction('convertToInteractive',\n",
              "                                                     [key], {});\n",
              "          if (!dataTable) return;\n",
              "\n",
              "          const docLinkHtml = 'Like what you see? Visit the ' +\n",
              "            '<a target=\"_blank\" href=https://colab.research.google.com/notebooks/data_table.ipynb>data table notebook</a>'\n",
              "            + ' to learn more about interactive tables.';\n",
              "          element.innerHTML = '';\n",
              "          dataTable['output_type'] = 'display_data';\n",
              "          await google.colab.output.renderOutput(dataTable, element);\n",
              "          const docLink = document.createElement('div');\n",
              "          docLink.innerHTML = docLinkHtml;\n",
              "          element.appendChild(docLink);\n",
              "        }\n",
              "      </script>\n",
              "    </div>\n",
              "  </div>\n",
              "  "
            ],
            "text/plain": [
              "     subset    system   utterance  ... votes4  votes5  fold\n",
              "5580  train  sysf53fb  utt8395a56  ...      0       0     4\n",
              "4618  train  sysc276f  utt0699af9  ...      0       0     3\n",
              "4368  train  sysba29c  utt1638187  ...      0       0     3\n",
              "6195    val  sys64e2f  utt0c4d719  ...      4       1     2\n",
              "6841    val  sysfd5c5  utt64abfa3  ...      4       2     4\n",
              "\n",
              "[5 rows x 14 columns]"
            ]
          },
          "metadata": {},
          "execution_count": 1
        }
      ]
    },
    {
      "cell_type": "code",
      "source": [
        "import time\n",
        "\n",
        "device = 'cuda'\n",
        "wave2vec2_model = get_wave2vec2_model(device).eval()"
      ],
      "metadata": {
        "id": "YGWkd9NrSP5N"
      },
      "execution_count": null,
      "outputs": []
    },
    {
      "cell_type": "markdown",
      "source": [
        "## Источники данных"
      ],
      "metadata": {
        "id": "zDhKmXLHW4SY"
      }
    },
    {
      "cell_type": "code",
      "source": [
        "data_sources = {\n",
        "    f'wave2vec2.{layer}': lambda file: file_to_wave2vec2_outputs(wave2vec2_model, file, device, output_layers=[layer])[0]\n",
        "    for layer in [\n",
        "          'feature_extractor.conv_layers.5',\n",
        "          'feature_extractor.conv_layers.6',\n",
        "          'transformer.layers.0',\n",
        "          'transformer.layers.2',\n",
        "          'transformer.layers.4',\n",
        "          'transformer.layers.6',\n",
        "          'transformer.layers.8',\n",
        "          'transformer.layers.10',\n",
        "    ]\n",
        "}\n",
        "\n",
        "data_sources['wave2vec2.mix1'] = lambda file: np.concatenate(file_to_wave2vec2_outputs(wave2vec2_model, file, device,\n",
        "                          output_layers=['feature_extractor.conv_layers.6', 'transformer.layers.6']), axis=1)\n",
        "data_sources['wave2vec2.mix2'] = lambda file: np.concatenate(file_to_wave2vec2_outputs(wave2vec2_model, file, device,\n",
        "                          output_layers=['feature_extractor.conv_layers.6', 'transformer.layers.6', 'transformer.layers.10']), axis=1)\n",
        "data_sources['wave2vec2.mix3'] = lambda file: np.concatenate(file_to_wave2vec2_outputs(wave2vec2_model, file, device,\n",
        "                          output_layers=['transformer.layers.6', 'transformer.layers.10']), axis=1)"
      ],
      "metadata": {
        "id": "Czs14EVyPxYq"
      },
      "execution_count": null,
      "outputs": []
    },
    {
      "cell_type": "markdown",
      "source": [
        "## Источники данных: проверка времени работы"
      ],
      "metadata": {
        "id": "HaXKPIITW8a1"
      }
    },
    {
      "cell_type": "code",
      "source": [
        "test_files = ['sys02a43-uttd08a661.wav', 'sys05205-utt61fd125.wav', 'sys19236-uttc22d6bc.wav',\n",
        "              'sys35c79-utt834bb2b.wav', 'sys4017d-uttb8d822a.wav'] #all files are around 3.4 sec length - mean length of all dataset\n",
        "for name, func in data_sources.items():\n",
        "  start_time = time.time()\n",
        "  for file in test_files:\n",
        "    result = func(file)\n",
        "    assert result.ndim == 2\n",
        "  time_per_file = (time.time() - start_time) / len(test_files)\n",
        "  print(f'[{time_per_file:g} sec/file, {time_per_file*2641:g} sec/dataset] {name}')"
      ],
      "metadata": {
        "id": "GtrqPmAtW_1j",
        "outputId": "f4bebcdd-b0df-4e37-886b-7df0d8ca4bc5",
        "colab": {
          "base_uri": "https://localhost:8080/"
        }
      },
      "execution_count": null,
      "outputs": [
        {
          "output_type": "stream",
          "name": "stdout",
          "text": [
            "[0.0174157 sec/file, 45.9948 sec/dataset] wave2vec2.feature_extractor.conv_layers.5\n",
            "[0.0166201 sec/file, 43.8936 sec/dataset] wave2vec2.feature_extractor.conv_layers.6\n",
            "[0.0158499 sec/file, 41.8596 sec/dataset] wave2vec2.transformer.layers.0\n",
            "[0.0153485 sec/file, 40.5355 sec/dataset] wave2vec2.transformer.layers.2\n",
            "[0.0152452 sec/file, 40.2626 sec/dataset] wave2vec2.transformer.layers.4\n",
            "[0.0153266 sec/file, 40.4777 sec/dataset] wave2vec2.transformer.layers.6\n",
            "[0.0148312 sec/file, 39.1691 sec/dataset] wave2vec2.transformer.layers.8\n",
            "[0.0150768 sec/file, 39.8178 sec/dataset] wave2vec2.transformer.layers.10\n",
            "[0.0152872 sec/file, 40.3734 sec/dataset] wave2vec2.mix1\n",
            "[0.0161923 sec/file, 42.764 sec/dataset] wave2vec2.mix2\n",
            "[0.0154552 sec/file, 40.8173 sec/dataset] wave2vec2.mix3\n"
          ]
        }
      ]
    },
    {
      "cell_type": "markdown",
      "source": [
        "## Способы обработки данных"
      ],
      "metadata": {
        "id": "tNsp6V7zXCNs"
      }
    },
    {
      "cell_type": "code",
      "source": [
        "!pip install -q tensorflow_addons"
      ],
      "metadata": {
        "id": "V2ZLPnzGL8dd"
      },
      "execution_count": null,
      "outputs": []
    },
    {
      "cell_type": "code",
      "source": [
        "from tensorflow.keras import layers\n",
        "import tensorflow_addons as tfa\n",
        "\n",
        "data_processing = {\n",
        "    'mean': lambda x: x.mean(axis=0),\n",
        "    'mean_std': lambda x: np.concatenate([x.mean(axis=0), x.std(axis=0)]),\n",
        "    'max': lambda x: x.max(axis=0),\n",
        "}\n",
        "\n",
        "random_projection_layers = {}\n",
        "def random_projection(x):\n",
        "  n_features = x.shape[1]\n",
        "  if not n_features in random_projection_layers:\n",
        "    random_projection_layers[n_features] = layers.Dense(8192, 'tanh')\n",
        "    random_projection_layers[n_features].build(input_shape=(None, n_features))\n",
        "  layer = random_projection_layers[n_features]\n",
        "  return layer(x).numpy().mean(axis=0)\n",
        "\n",
        "data_processing['random_projection'] = random_projection\n",
        "\n",
        "random_rnn_layers = {}\n",
        "def random_rnn(x, reduction='last'):\n",
        "  n_features = x.shape[1]\n",
        "  if not n_features in random_rnn_layers:\n",
        "    random_rnn_layers[n_features] = layers.GRU(512, 'tanh', return_sequences=True, time_major=True)\n",
        "    random_rnn_layers[n_features].build(input_shape=(None, None, n_features))\n",
        "  layer = random_rnn_layers[n_features]\n",
        "  inputs = x[:, None, :] #(timesteps, batch, feature)\n",
        "  outputs = layer(inputs)[:, 0, :].numpy() #(timesteps, feature)\n",
        "  if reduction == 'last':\n",
        "    return outputs[-1]\n",
        "  else:\n",
        "    return reduction(outputs, axis=0)\n",
        "\n",
        "data_processing['random_rnn_last_state'] = lambda x: random_rnn(x, reduction='last')\n",
        "data_processing['random_rnn_mean_state'] = lambda x: random_rnn(x, reduction=np.mean)\n",
        "data_processing['random_rnn_max_state'] = lambda x: random_rnn(x, reduction=np.max)\n",
        "\n",
        "random_esn_layers = {}\n",
        "def random_esn(x, reduction='last'):\n",
        "  n_features = x.shape[1]\n",
        "  if not n_features in random_esn_layers:\n",
        "    random_esn_layers[n_features] = tfa.layers.ESN(256, return_sequences=True)\n",
        "    random_esn_layers[n_features].build(input_shape=(None, None, n_features))\n",
        "  layer = random_esn_layers[n_features]\n",
        "  inputs = x[None, :, :] #(batch, timesteps, feature)\n",
        "  outputs = layer(inputs)[0, :, :].numpy() #(timesteps, feature)\n",
        "  if reduction == 'last':\n",
        "    return outputs[-1]\n",
        "  else:\n",
        "    return reduction(outputs, axis=0)\n",
        "\n",
        "data_processing['random_esn_last_state'] = lambda x: random_esn(x, reduction='last')\n",
        "data_processing['random_esn_mean_state'] = lambda x: random_esn(x, reduction=np.mean)\n",
        "data_processing['random_esn_max_state'] = lambda x: random_esn(x, reduction=np.max)"
      ],
      "metadata": {
        "id": "dPHxwXyaHRUb"
      },
      "execution_count": null,
      "outputs": []
    },
    {
      "cell_type": "markdown",
      "source": [
        "## Способы обработки данных: проверка времени работы"
      ],
      "metadata": {
        "id": "_nGFbTEQXF2b"
      }
    },
    {
      "cell_type": "code",
      "source": [
        "for name, func in data_processing.items():\n",
        "  assert func(np.zeros((1, 768))).shape == func(np.zeros((200, 768))).shape\n",
        "  start_time = time.time()\n",
        "  for file in test_files:\n",
        "    result = func(np.zeros((170, 768))) #170 frames (3.4 sec, 50 Hz), 768 features\n",
        "    assert result.ndim == 1\n",
        "  time_per_file = (time.time() - start_time) / len(test_files)\n",
        "  print(f'[{time_per_file:g} sec/file, {time_per_file*2641:g} sec/dataset] {name}')"
      ],
      "metadata": {
        "colab": {
          "base_uri": "https://localhost:8080/"
        },
        "id": "DJcOjg9zV85Y",
        "outputId": "ccb8bea0-8fb6-4e0b-d8c6-bc33b60757c1"
      },
      "execution_count": null,
      "outputs": [
        {
          "output_type": "stream",
          "name": "stdout",
          "text": [
            "[0.00024395 sec/file, 0.644272 sec/dataset] mean\n",
            "[0.00112209 sec/file, 2.96345 sec/dataset] mean_std\n",
            "[0.000265837 sec/file, 0.702075 sec/dataset] max\n",
            "[0.00638776 sec/file, 16.8701 sec/dataset] random_projection\n",
            "[0.00685287 sec/file, 18.0984 sec/dataset] random_rnn_last_state\n",
            "[0.00775075 sec/file, 20.4697 sec/dataset] random_rnn_mean_state\n",
            "[0.00728836 sec/file, 19.2486 sec/dataset] random_rnn_max_state\n",
            "[0.153161 sec/file, 404.499 sec/dataset] random_esn_last_state\n",
            "[0.156729 sec/file, 413.921 sec/dataset] random_esn_mean_state\n",
            "[0.153354 sec/file, 405.007 sec/dataset] random_esn_max_state\n"
          ]
        }
      ]
    },
    {
      "cell_type": "code",
      "source": [
        ""
      ],
      "metadata": {
        "id": "6Rm5B295XIdo"
      },
      "execution_count": null,
      "outputs": []
    }
  ]
}