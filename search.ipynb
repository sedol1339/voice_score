{
  "nbformat": 4,
  "nbformat_minor": 0,
  "metadata": {
    "colab": {
      "name": "search.ipynb",
      "provenance": [],
      "collapsed_sections": []
    },
    "kernelspec": {
      "name": "python3",
      "display_name": "Python 3"
    },
    "language_info": {
      "name": "python"
    },
    "widgets": {
      "application/vnd.jupyter.widget-state+json": {
        "6481dfe88dac46578486546b11101088": {
          "model_module": "@jupyter-widgets/controls",
          "model_name": "HBoxModel",
          "model_module_version": "1.5.0",
          "state": {
            "_view_name": "HBoxView",
            "_dom_classes": [],
            "_model_name": "HBoxModel",
            "_view_module": "@jupyter-widgets/controls",
            "_model_module_version": "1.5.0",
            "_view_count": null,
            "_view_module_version": "1.5.0",
            "box_style": "",
            "layout": "IPY_MODEL_48d170f0fa00451eb59e2bfe8d8ecdd3",
            "_model_module": "@jupyter-widgets/controls",
            "children": [
              "IPY_MODEL_ae1e64d289c74f6aa7d03216f28c6cc7",
              "IPY_MODEL_cad2f8cc0df54a65a53d502abc259a82",
              "IPY_MODEL_0d3bc506d33f40b387d9720a17fd25a8"
            ]
          }
        },
        "48d170f0fa00451eb59e2bfe8d8ecdd3": {
          "model_module": "@jupyter-widgets/base",
          "model_name": "LayoutModel",
          "model_module_version": "1.2.0",
          "state": {
            "_view_name": "LayoutView",
            "grid_template_rows": null,
            "right": null,
            "justify_content": null,
            "_view_module": "@jupyter-widgets/base",
            "overflow": null,
            "_model_module_version": "1.2.0",
            "_view_count": null,
            "flex_flow": null,
            "width": null,
            "min_width": null,
            "border": null,
            "align_items": null,
            "bottom": null,
            "_model_module": "@jupyter-widgets/base",
            "top": null,
            "grid_column": null,
            "overflow_y": null,
            "overflow_x": null,
            "grid_auto_flow": null,
            "grid_area": null,
            "grid_template_columns": null,
            "flex": null,
            "_model_name": "LayoutModel",
            "justify_items": null,
            "grid_row": null,
            "max_height": null,
            "align_content": null,
            "visibility": null,
            "align_self": null,
            "height": null,
            "min_height": null,
            "padding": null,
            "grid_auto_rows": null,
            "grid_gap": null,
            "max_width": null,
            "order": null,
            "_view_module_version": "1.2.0",
            "grid_template_areas": null,
            "object_position": null,
            "object_fit": null,
            "grid_auto_columns": null,
            "margin": null,
            "display": null,
            "left": null
          }
        },
        "ae1e64d289c74f6aa7d03216f28c6cc7": {
          "model_module": "@jupyter-widgets/controls",
          "model_name": "HTMLModel",
          "model_module_version": "1.5.0",
          "state": {
            "_view_name": "HTMLView",
            "style": "IPY_MODEL_0722de48e95f4646a708fe16ac7b0229",
            "_dom_classes": [],
            "description": "",
            "_model_name": "HTMLModel",
            "placeholder": "​",
            "_view_module": "@jupyter-widgets/controls",
            "_model_module_version": "1.5.0",
            "value": "100%",
            "_view_count": null,
            "_view_module_version": "1.5.0",
            "description_tooltip": null,
            "_model_module": "@jupyter-widgets/controls",
            "layout": "IPY_MODEL_4bc50bd0d7474286ac1b536790a91f2b"
          }
        },
        "cad2f8cc0df54a65a53d502abc259a82": {
          "model_module": "@jupyter-widgets/controls",
          "model_name": "FloatProgressModel",
          "model_module_version": "1.5.0",
          "state": {
            "_view_name": "ProgressView",
            "style": "IPY_MODEL_db8188d5307b4f33982ed28d7ec4501e",
            "_dom_classes": [],
            "description": "",
            "_model_name": "FloatProgressModel",
            "bar_style": "success",
            "max": 168,
            "_view_module": "@jupyter-widgets/controls",
            "_model_module_version": "1.5.0",
            "value": 168,
            "_view_count": null,
            "_view_module_version": "1.5.0",
            "orientation": "horizontal",
            "min": 0,
            "description_tooltip": null,
            "_model_module": "@jupyter-widgets/controls",
            "layout": "IPY_MODEL_fa8278ccfefd4346b00f86e71120a785"
          }
        },
        "0d3bc506d33f40b387d9720a17fd25a8": {
          "model_module": "@jupyter-widgets/controls",
          "model_name": "HTMLModel",
          "model_module_version": "1.5.0",
          "state": {
            "_view_name": "HTMLView",
            "style": "IPY_MODEL_7411a38b44b24d63bec2f511058e1f39",
            "_dom_classes": [],
            "description": "",
            "_model_name": "HTMLModel",
            "placeholder": "​",
            "_view_module": "@jupyter-widgets/controls",
            "_model_module_version": "1.5.0",
            "value": " 168/168 [01:37&lt;00:00,  2.19it/s]",
            "_view_count": null,
            "_view_module_version": "1.5.0",
            "description_tooltip": null,
            "_model_module": "@jupyter-widgets/controls",
            "layout": "IPY_MODEL_fe08d1b3949c4875b462adf6b71d0f48"
          }
        },
        "0722de48e95f4646a708fe16ac7b0229": {
          "model_module": "@jupyter-widgets/controls",
          "model_name": "DescriptionStyleModel",
          "model_module_version": "1.5.0",
          "state": {
            "_view_name": "StyleView",
            "_model_name": "DescriptionStyleModel",
            "description_width": "",
            "_view_module": "@jupyter-widgets/base",
            "_model_module_version": "1.5.0",
            "_view_count": null,
            "_view_module_version": "1.2.0",
            "_model_module": "@jupyter-widgets/controls"
          }
        },
        "4bc50bd0d7474286ac1b536790a91f2b": {
          "model_module": "@jupyter-widgets/base",
          "model_name": "LayoutModel",
          "model_module_version": "1.2.0",
          "state": {
            "_view_name": "LayoutView",
            "grid_template_rows": null,
            "right": null,
            "justify_content": null,
            "_view_module": "@jupyter-widgets/base",
            "overflow": null,
            "_model_module_version": "1.2.0",
            "_view_count": null,
            "flex_flow": null,
            "width": null,
            "min_width": null,
            "border": null,
            "align_items": null,
            "bottom": null,
            "_model_module": "@jupyter-widgets/base",
            "top": null,
            "grid_column": null,
            "overflow_y": null,
            "overflow_x": null,
            "grid_auto_flow": null,
            "grid_area": null,
            "grid_template_columns": null,
            "flex": null,
            "_model_name": "LayoutModel",
            "justify_items": null,
            "grid_row": null,
            "max_height": null,
            "align_content": null,
            "visibility": null,
            "align_self": null,
            "height": null,
            "min_height": null,
            "padding": null,
            "grid_auto_rows": null,
            "grid_gap": null,
            "max_width": null,
            "order": null,
            "_view_module_version": "1.2.0",
            "grid_template_areas": null,
            "object_position": null,
            "object_fit": null,
            "grid_auto_columns": null,
            "margin": null,
            "display": null,
            "left": null
          }
        },
        "db8188d5307b4f33982ed28d7ec4501e": {
          "model_module": "@jupyter-widgets/controls",
          "model_name": "ProgressStyleModel",
          "model_module_version": "1.5.0",
          "state": {
            "_view_name": "StyleView",
            "_model_name": "ProgressStyleModel",
            "description_width": "",
            "_view_module": "@jupyter-widgets/base",
            "_model_module_version": "1.5.0",
            "_view_count": null,
            "_view_module_version": "1.2.0",
            "bar_color": null,
            "_model_module": "@jupyter-widgets/controls"
          }
        },
        "fa8278ccfefd4346b00f86e71120a785": {
          "model_module": "@jupyter-widgets/base",
          "model_name": "LayoutModel",
          "model_module_version": "1.2.0",
          "state": {
            "_view_name": "LayoutView",
            "grid_template_rows": null,
            "right": null,
            "justify_content": null,
            "_view_module": "@jupyter-widgets/base",
            "overflow": null,
            "_model_module_version": "1.2.0",
            "_view_count": null,
            "flex_flow": null,
            "width": null,
            "min_width": null,
            "border": null,
            "align_items": null,
            "bottom": null,
            "_model_module": "@jupyter-widgets/base",
            "top": null,
            "grid_column": null,
            "overflow_y": null,
            "overflow_x": null,
            "grid_auto_flow": null,
            "grid_area": null,
            "grid_template_columns": null,
            "flex": null,
            "_model_name": "LayoutModel",
            "justify_items": null,
            "grid_row": null,
            "max_height": null,
            "align_content": null,
            "visibility": null,
            "align_self": null,
            "height": null,
            "min_height": null,
            "padding": null,
            "grid_auto_rows": null,
            "grid_gap": null,
            "max_width": null,
            "order": null,
            "_view_module_version": "1.2.0",
            "grid_template_areas": null,
            "object_position": null,
            "object_fit": null,
            "grid_auto_columns": null,
            "margin": null,
            "display": null,
            "left": null
          }
        },
        "7411a38b44b24d63bec2f511058e1f39": {
          "model_module": "@jupyter-widgets/controls",
          "model_name": "DescriptionStyleModel",
          "model_module_version": "1.5.0",
          "state": {
            "_view_name": "StyleView",
            "_model_name": "DescriptionStyleModel",
            "description_width": "",
            "_view_module": "@jupyter-widgets/base",
            "_model_module_version": "1.5.0",
            "_view_count": null,
            "_view_module_version": "1.2.0",
            "_model_module": "@jupyter-widgets/controls"
          }
        },
        "fe08d1b3949c4875b462adf6b71d0f48": {
          "model_module": "@jupyter-widgets/base",
          "model_name": "LayoutModel",
          "model_module_version": "1.2.0",
          "state": {
            "_view_name": "LayoutView",
            "grid_template_rows": null,
            "right": null,
            "justify_content": null,
            "_view_module": "@jupyter-widgets/base",
            "overflow": null,
            "_model_module_version": "1.2.0",
            "_view_count": null,
            "flex_flow": null,
            "width": null,
            "min_width": null,
            "border": null,
            "align_items": null,
            "bottom": null,
            "_model_module": "@jupyter-widgets/base",
            "top": null,
            "grid_column": null,
            "overflow_y": null,
            "overflow_x": null,
            "grid_auto_flow": null,
            "grid_area": null,
            "grid_template_columns": null,
            "flex": null,
            "_model_name": "LayoutModel",
            "justify_items": null,
            "grid_row": null,
            "max_height": null,
            "align_content": null,
            "visibility": null,
            "align_self": null,
            "height": null,
            "min_height": null,
            "padding": null,
            "grid_auto_rows": null,
            "grid_gap": null,
            "max_width": null,
            "order": null,
            "_view_module_version": "1.2.0",
            "grid_template_areas": null,
            "object_position": null,
            "object_fit": null,
            "grid_auto_columns": null,
            "margin": null,
            "display": null,
            "left": null
          }
        }
      }
    }
  },
  "cells": [
    {
      "cell_type": "markdown",
      "source": [
        "## Скачивание файлов, деление на фолды"
      ],
      "metadata": {
        "id": "Tg_vO22ije_0"
      }
    },
    {
      "cell_type": "code",
      "source": [
        "import pandas as pd, numpy as np, matplotlib.pyplot as plt, math\n",
        "from tqdm.notebook import tqdm\n",
        "\n",
        "URL = 'https://storage.googleapis.com/oleg-zyablov/misc/VoiceMOS'\n",
        "!wget -q {URL}/data.csv\n",
        "\n",
        "data = pd.read_csv('data.csv')\n",
        "data = data[data.subset.isin(['train', 'val']) & data.file_exists]\n",
        "#data = data[data.subset.isin(['train']) & data.file_exists] #TODO заменить\n",
        "\n",
        "n_folds = 5\n",
        "fold_size = math.ceil(len(data) / n_folds)\n",
        "cumsum = data.groupby('system').file.count().cumsum()\n",
        "system_to_fold = {}\n",
        "for i in range(n_folds):\n",
        "  systems = cumsum[(cumsum > fold_size*i) & (cumsum <= fold_size*(i+1))].index.tolist()\n",
        "  for s in systems:\n",
        "    system_to_fold[s] = i\n",
        "\n",
        "data['fold'] = None\n",
        "for i in data.index:\n",
        "  data.loc[i, 'fold'] = system_to_fold[data.loc[i, 'system']]\n",
        "\n",
        "folds = data.fold.to_numpy()\n",
        "is_val = data.subset == 'val'\n",
        "y = data.score_mean.to_numpy()\n",
        "\n",
        "def get_split(X, y, fold_idx):\n",
        "  if fold_idx == 'default':\n",
        "    train_idx = ~is_val\n",
        "    val_idx = is_val\n",
        "  else:\n",
        "    train_idx = folds != i\n",
        "    val_idx = folds == i\n",
        "  return (X[train_idx], y[train_idx]), (X[val_idx], y[val_idx])\n",
        "\n",
        "data.sample(5)"
      ],
      "metadata": {
        "colab": {
          "base_uri": "https://localhost:8080/",
          "height": 357
        },
        "id": "3_B70dd2iPeN",
        "outputId": "7efea816-1849-4a94-e961-afe114b8d01b"
      },
      "execution_count": 1,
      "outputs": [
        {
          "output_type": "execute_result",
          "data": {
            "text/html": [
              "\n",
              "  <div id=\"df-db9ac1a9-db09-49d4-8566-27b52ac06b07\">\n",
              "    <div class=\"colab-df-container\">\n",
              "      <div>\n",
              "<style scoped>\n",
              "    .dataframe tbody tr th:only-of-type {\n",
              "        vertical-align: middle;\n",
              "    }\n",
              "\n",
              "    .dataframe tbody tr th {\n",
              "        vertical-align: top;\n",
              "    }\n",
              "\n",
              "    .dataframe thead th {\n",
              "        text-align: right;\n",
              "    }\n",
              "</style>\n",
              "<table border=\"1\" class=\"dataframe\">\n",
              "  <thead>\n",
              "    <tr style=\"text-align: right;\">\n",
              "      <th></th>\n",
              "      <th>subset</th>\n",
              "      <th>system</th>\n",
              "      <th>utterance</th>\n",
              "      <th>file</th>\n",
              "      <th>file_exists</th>\n",
              "      <th>score_mean</th>\n",
              "      <th>score_std</th>\n",
              "      <th>n_votes</th>\n",
              "      <th>votes1</th>\n",
              "      <th>votes2</th>\n",
              "      <th>votes3</th>\n",
              "      <th>votes4</th>\n",
              "      <th>votes5</th>\n",
              "      <th>fold</th>\n",
              "    </tr>\n",
              "  </thead>\n",
              "  <tbody>\n",
              "    <tr>\n",
              "      <th>4302</th>\n",
              "      <td>train</td>\n",
              "      <td>sysb526f</td>\n",
              "      <td>uttfa3d263</td>\n",
              "      <td>sysb526f-uttfa3d263.wav</td>\n",
              "      <td>True</td>\n",
              "      <td>3.375</td>\n",
              "      <td>0.7440</td>\n",
              "      <td>8</td>\n",
              "      <td>0</td>\n",
              "      <td>1</td>\n",
              "      <td>3</td>\n",
              "      <td>4</td>\n",
              "      <td>0</td>\n",
              "      <td>3</td>\n",
              "    </tr>\n",
              "    <tr>\n",
              "      <th>2695</th>\n",
              "      <td>train</td>\n",
              "      <td>sys56eb0</td>\n",
              "      <td>utt186960c</td>\n",
              "      <td>sys56eb0-utt186960c.wav</td>\n",
              "      <td>True</td>\n",
              "      <td>3.000</td>\n",
              "      <td>1.0690</td>\n",
              "      <td>8</td>\n",
              "      <td>0</td>\n",
              "      <td>3</td>\n",
              "      <td>3</td>\n",
              "      <td>1</td>\n",
              "      <td>1</td>\n",
              "      <td>1</td>\n",
              "    </tr>\n",
              "    <tr>\n",
              "      <th>5575</th>\n",
              "      <td>train</td>\n",
              "      <td>sysf53fb</td>\n",
              "      <td>utt65c20f7</td>\n",
              "      <td>sysf53fb-utt65c20f7.wav</td>\n",
              "      <td>True</td>\n",
              "      <td>1.000</td>\n",
              "      <td>0.0000</td>\n",
              "      <td>8</td>\n",
              "      <td>8</td>\n",
              "      <td>0</td>\n",
              "      <td>0</td>\n",
              "      <td>0</td>\n",
              "      <td>0</td>\n",
              "      <td>4</td>\n",
              "    </tr>\n",
              "    <tr>\n",
              "      <th>3322</th>\n",
              "      <td>train</td>\n",
              "      <td>sys83090</td>\n",
              "      <td>utt6258cf1</td>\n",
              "      <td>sys83090-utt6258cf1.wav</td>\n",
              "      <td>True</td>\n",
              "      <td>3.125</td>\n",
              "      <td>0.9910</td>\n",
              "      <td>8</td>\n",
              "      <td>0</td>\n",
              "      <td>2</td>\n",
              "      <td>4</td>\n",
              "      <td>1</td>\n",
              "      <td>1</td>\n",
              "      <td>2</td>\n",
              "    </tr>\n",
              "    <tr>\n",
              "      <th>3334</th>\n",
              "      <td>train</td>\n",
              "      <td>sys83090</td>\n",
              "      <td>uttceea72e</td>\n",
              "      <td>sys83090-uttceea72e.wav</td>\n",
              "      <td>True</td>\n",
              "      <td>3.250</td>\n",
              "      <td>1.0351</td>\n",
              "      <td>8</td>\n",
              "      <td>0</td>\n",
              "      <td>2</td>\n",
              "      <td>3</td>\n",
              "      <td>2</td>\n",
              "      <td>1</td>\n",
              "      <td>2</td>\n",
              "    </tr>\n",
              "  </tbody>\n",
              "</table>\n",
              "</div>\n",
              "      <button class=\"colab-df-convert\" onclick=\"convertToInteractive('df-db9ac1a9-db09-49d4-8566-27b52ac06b07')\"\n",
              "              title=\"Convert this dataframe to an interactive table.\"\n",
              "              style=\"display:none;\">\n",
              "        \n",
              "  <svg xmlns=\"http://www.w3.org/2000/svg\" height=\"24px\"viewBox=\"0 0 24 24\"\n",
              "       width=\"24px\">\n",
              "    <path d=\"M0 0h24v24H0V0z\" fill=\"none\"/>\n",
              "    <path d=\"M18.56 5.44l.94 2.06.94-2.06 2.06-.94-2.06-.94-.94-2.06-.94 2.06-2.06.94zm-11 1L8.5 8.5l.94-2.06 2.06-.94-2.06-.94L8.5 2.5l-.94 2.06-2.06.94zm10 10l.94 2.06.94-2.06 2.06-.94-2.06-.94-.94-2.06-.94 2.06-2.06.94z\"/><path d=\"M17.41 7.96l-1.37-1.37c-.4-.4-.92-.59-1.43-.59-.52 0-1.04.2-1.43.59L10.3 9.45l-7.72 7.72c-.78.78-.78 2.05 0 2.83L4 21.41c.39.39.9.59 1.41.59.51 0 1.02-.2 1.41-.59l7.78-7.78 2.81-2.81c.8-.78.8-2.07 0-2.86zM5.41 20L4 18.59l7.72-7.72 1.47 1.35L5.41 20z\"/>\n",
              "  </svg>\n",
              "      </button>\n",
              "      \n",
              "  <style>\n",
              "    .colab-df-container {\n",
              "      display:flex;\n",
              "      flex-wrap:wrap;\n",
              "      gap: 12px;\n",
              "    }\n",
              "\n",
              "    .colab-df-convert {\n",
              "      background-color: #E8F0FE;\n",
              "      border: none;\n",
              "      border-radius: 50%;\n",
              "      cursor: pointer;\n",
              "      display: none;\n",
              "      fill: #1967D2;\n",
              "      height: 32px;\n",
              "      padding: 0 0 0 0;\n",
              "      width: 32px;\n",
              "    }\n",
              "\n",
              "    .colab-df-convert:hover {\n",
              "      background-color: #E2EBFA;\n",
              "      box-shadow: 0px 1px 2px rgba(60, 64, 67, 0.3), 0px 1px 3px 1px rgba(60, 64, 67, 0.15);\n",
              "      fill: #174EA6;\n",
              "    }\n",
              "\n",
              "    [theme=dark] .colab-df-convert {\n",
              "      background-color: #3B4455;\n",
              "      fill: #D2E3FC;\n",
              "    }\n",
              "\n",
              "    [theme=dark] .colab-df-convert:hover {\n",
              "      background-color: #434B5C;\n",
              "      box-shadow: 0px 1px 3px 1px rgba(0, 0, 0, 0.15);\n",
              "      filter: drop-shadow(0px 1px 2px rgba(0, 0, 0, 0.3));\n",
              "      fill: #FFFFFF;\n",
              "    }\n",
              "  </style>\n",
              "\n",
              "      <script>\n",
              "        const buttonEl =\n",
              "          document.querySelector('#df-db9ac1a9-db09-49d4-8566-27b52ac06b07 button.colab-df-convert');\n",
              "        buttonEl.style.display =\n",
              "          google.colab.kernel.accessAllowed ? 'block' : 'none';\n",
              "\n",
              "        async function convertToInteractive(key) {\n",
              "          const element = document.querySelector('#df-db9ac1a9-db09-49d4-8566-27b52ac06b07');\n",
              "          const dataTable =\n",
              "            await google.colab.kernel.invokeFunction('convertToInteractive',\n",
              "                                                     [key], {});\n",
              "          if (!dataTable) return;\n",
              "\n",
              "          const docLinkHtml = 'Like what you see? Visit the ' +\n",
              "            '<a target=\"_blank\" href=https://colab.research.google.com/notebooks/data_table.ipynb>data table notebook</a>'\n",
              "            + ' to learn more about interactive tables.';\n",
              "          element.innerHTML = '';\n",
              "          dataTable['output_type'] = 'display_data';\n",
              "          await google.colab.output.renderOutput(dataTable, element);\n",
              "          const docLink = document.createElement('div');\n",
              "          docLink.innerHTML = docLinkHtml;\n",
              "          element.appendChild(docLink);\n",
              "        }\n",
              "      </script>\n",
              "    </div>\n",
              "  </div>\n",
              "  "
            ],
            "text/plain": [
              "     subset    system   utterance  ... votes4  votes5  fold\n",
              "4302  train  sysb526f  uttfa3d263  ...      4       0     3\n",
              "2695  train  sys56eb0  utt186960c  ...      1       1     1\n",
              "5575  train  sysf53fb  utt65c20f7  ...      0       0     4\n",
              "3322  train  sys83090  utt6258cf1  ...      1       1     2\n",
              "3334  train  sys83090  uttceea72e  ...      2       1     2\n",
              "\n",
              "[5 rows x 14 columns]"
            ]
          },
          "metadata": {},
          "execution_count": 1
        }
      ]
    },
    {
      "cell_type": "code",
      "execution_count": 2,
      "metadata": {
        "colab": {
          "base_uri": "https://localhost:8080/",
          "height": 48,
          "referenced_widgets": [
            "6481dfe88dac46578486546b11101088",
            "48d170f0fa00451eb59e2bfe8d8ecdd3",
            "ae1e64d289c74f6aa7d03216f28c6cc7",
            "cad2f8cc0df54a65a53d502abc259a82",
            "0d3bc506d33f40b387d9720a17fd25a8",
            "0722de48e95f4646a708fe16ac7b0229",
            "4bc50bd0d7474286ac1b536790a91f2b",
            "db8188d5307b4f33982ed28d7ec4501e",
            "fa8278ccfefd4346b00f86e71120a785",
            "7411a38b44b24d63bec2f511058e1f39",
            "fe08d1b3949c4875b462adf6b71d0f48"
          ]
        },
        "id": "OrPW3GQmggZo",
        "outputId": "382f5532-3395-4aff-86a0-8899ee4a210b"
      },
      "outputs": [
        {
          "output_type": "display_data",
          "data": {
            "application/vnd.jupyter.widget-view+json": {
              "model_id": "6481dfe88dac46578486546b11101088",
              "version_minor": 0,
              "version_major": 2
            },
            "text/plain": [
              "  0%|          | 0/168 [00:00<?, ?it/s]"
            ]
          },
          "metadata": {}
        }
      ],
      "source": [
        "data_sources = [\n",
        "    'wave2vec2.feature_extractor.conv_layers.3',\n",
        "    'wave2vec2.feature_extractor.conv_layers.5',\n",
        "    'wave2vec2.feature_extractor.conv_layers.6',\n",
        "    'wave2vec2.transformer.layers.0',\n",
        "    'wave2vec2.transformer.layers.2',\n",
        "    'wave2vec2.transformer.layers.4',\n",
        "    'wave2vec2.transformer.layers.6',\n",
        "    'wave2vec2.transformer.layers.8',\n",
        "    'wave2vec2.transformer.layers.10',\n",
        "    'wave2vec2.mix1',\n",
        "    'wave2vec2.mix2',\n",
        "    'wave2vec2.mix3',\n",
        "]\n",
        "\n",
        "data_processing_and_reduction = {\n",
        "    'none': {'mean', 'mean_std', 'max'},\n",
        "    'random_projection': {'mean', 'mean_std', 'max'},\n",
        "    'random_rnn': {'last', 'mean', 'mean_std', 'max'},\n",
        "    'random_esn': {'last', 'mean', 'mean_std', 'max'},\n",
        "}\n",
        "\n",
        "def get_filename(src_name, proc_name, reduction_name):\n",
        "  return f'{src_name}__{proc_name}__{reduction_name}.npz'\n",
        "\n",
        "filenames = []\n",
        "for source in data_sources:\n",
        "  for proc, reductions in data_processing_and_reduction.items():\n",
        "    for reduction in reductions:\n",
        "      filenames.append(get_filename(source, proc, reduction))\n",
        "\n",
        "for filename in tqdm(filenames):\n",
        "  !wget -q {URL}/datasets/{filename}\n",
        "\n",
        "def load_dataset(source, proc, reduction):\n",
        "  filename = get_filename(source, proc, reduction)\n",
        "  return np.load(filename)['arr_0']\n",
        "\n",
        "all_procs_and_reductions = []\n",
        "for proc, reductions in data_processing_and_reduction.items():\n",
        "    for reduction in reductions:\n",
        "      all_procs_and_reductions.append(f'{proc}__{reduction}')"
      ]
    },
    {
      "cell_type": "code",
      "source": [
        "import sklearn.linear_model, sklearn.ensemble\n",
        "from sklearn.metrics import mean_squared_error as mse\n",
        "from sklearn.preprocessing import StandardScaler\n",
        "\n",
        "sum_mse = 0\n",
        "for i in range(5):\n",
        "  (_, y_train), (_, y_val) = get_split(y, y, i)\n",
        "  prediction = y_val.mean()\n",
        "  sum_mse += mse(y_val, [prediction] * len(y_val))\n",
        "print(sum_mse / 5)"
      ],
      "metadata": {
        "colab": {
          "base_uri": "https://localhost:8080/"
        },
        "id": "3aTQCmsNmrpm",
        "outputId": "4b8afad7-f246-44e9-b236-ef2987a5ea61"
      },
      "execution_count": 5,
      "outputs": [
        {
          "output_type": "stream",
          "name": "stdout",
          "text": [
            "0.890975555542332\n"
          ]
        }
      ]
    },
    {
      "cell_type": "code",
      "source": [
        "results = pd.DataFrame(columns=all_procs_and_reductions, index=data_sources)\n",
        "\n",
        "MIN = 1000\n",
        "\n",
        "for source in data_sources:\n",
        "  for proc, reductions in data_processing_and_reduction.items():\n",
        "    for reduction in reductions:\n",
        "      X = load_dataset(source, proc, reduction)\n",
        "      X = StandardScaler().fit_transform(X)\n",
        "      val_mse_sum = 0\n",
        "      for i in range(5):\n",
        "        (X_train, y_train), (X_val, y_val) = get_split(X, y, i)\n",
        "        model = sklearn.linear_model.Ridge()\n",
        "        model.fit(X_train, y_train)\n",
        "        train_mse = mse(y_train, model.predict(X_train))\n",
        "        val_mse = mse(y_val, model.predict(X_val))\n",
        "        val_mse_sum += val_mse\n",
        "      val_mse_mean = val_mse_sum / 5\n",
        "      print(source, f'{proc}__{reduction}', val_mse_mean)\n",
        "      results.loc[source, f'{proc}__{reduction}'] = val_mse_mean\n",
        "      if MIN > val_mse_mean:\n",
        "        print('MIN')\n",
        "        MIN = val_mse_mean"
      ],
      "metadata": {
        "id": "ubArdtCmjNfE"
      },
      "execution_count": null,
      "outputs": []
    },
    {
      "cell_type": "code",
      "source": [
        "f = get_filename('wave2vec2.feature_extractor.conv_layers.3', 'none', 'mean')\n",
        "print(f)\n",
        "np.load(f)['arr_0'].shape"
      ],
      "metadata": {
        "colab": {
          "base_uri": "https://localhost:8080/"
        },
        "id": "gj6n8TXrv6zl",
        "outputId": "53ea5b9f-f563-49b5-b367-1d593c6c6819"
      },
      "execution_count": 7,
      "outputs": [
        {
          "output_type": "stream",
          "name": "stdout",
          "text": [
            "wave2vec2.feature_extractor.conv_layers.3__none__mean.npz\n"
          ]
        },
        {
          "output_type": "execute_result",
          "data": {
            "text/plain": [
              "(2641, 512)"
            ]
          },
          "metadata": {},
          "execution_count": 7
        }
      ]
    },
    {
      "cell_type": "code",
      "source": [
        "f = get_filename('wave2vec2.transformer.layers.10', 'none', 'mean')\n",
        "print(f)\n",
        "np.load(f)['arr_0'].shape"
      ],
      "metadata": {
        "colab": {
          "base_uri": "https://localhost:8080/"
        },
        "id": "XEQE6egpwG8P",
        "outputId": "00a371f2-8736-4bf3-ba3b-f1e9b09afd11"
      },
      "execution_count": 8,
      "outputs": [
        {
          "output_type": "stream",
          "name": "stdout",
          "text": [
            "wave2vec2.transformer.layers.10__none__mean.npz\n"
          ]
        },
        {
          "output_type": "execute_result",
          "data": {
            "text/plain": [
              "(2641, 768)"
            ]
          },
          "metadata": {},
          "execution_count": 8
        }
      ]
    },
    {
      "cell_type": "code",
      "source": [
        "from IPython.display import HTML, display\n",
        "\n",
        "pd.set_option('display.float_format', '{:.3f}'.format)\n",
        "\n",
        "def format_vertical_headers(df):\n",
        "    \"\"\"Display a dataframe with vertical column headers\"\"\"\n",
        "    styles = [dict(selector=\"th\", props=[('width', '40px')]),\n",
        "              dict(selector=\"th.col_heading\",\n",
        "                   props=[(\"writing-mode\", \"vertical-rl\"),\n",
        "                          ('transform', 'rotateZ(180deg)'), \n",
        "                          ('height', '290px'),\n",
        "                          ('vertical-align', 'top')])]\n",
        "    return (df.round(3).style.set_table_styles(styles))\n",
        "\n",
        "format_vertical_headers(results)"
      ],
      "metadata": {
        "id": "DpG4nB4wtCSH"
      },
      "execution_count": null,
      "outputs": []
    },
    {
      "cell_type": "code",
      "source": [
        "results.to_csv('1.csv')"
      ],
      "metadata": {
        "id": "QGS1b4Tqu6Lg"
      },
      "execution_count": 18,
      "outputs": []
    },
    {
      "cell_type": "code",
      "source": [
        ""
      ],
      "metadata": {
        "id": "tRCRAP2TvjFo"
      },
      "execution_count": null,
      "outputs": []
    }
  ]
}